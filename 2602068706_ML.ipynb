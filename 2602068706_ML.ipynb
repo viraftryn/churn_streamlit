{
 "cells": [
  {
   "cell_type": "markdown",
   "metadata": {
    "id": "hUiCTxv2PwTr"
   },
   "source": [
    "#### DTSC6012001 - Model Deployment\n",
    "Nama: Vira Fitriyani<br>\n",
    "NIM: 2602068706<br>\n",
    "MID Exam<br>"
   ]
  },
  {
   "cell_type": "markdown",
   "metadata": {
    "id": "uARkGUHIQPqC"
   },
   "source": [
    "#### Library"
   ]
  },
  {
   "cell_type": "code",
   "execution_count": 5,
   "metadata": {},
   "outputs": [
    {
     "name": "stdout",
     "output_type": "stream",
     "text": [
      "Requirement already satisfied: xgboost in c:\\users\\vira fitriyani\\anaconda3\\lib\\site-packages (2.0.3)\n",
      "Requirement already satisfied: scipy in c:\\users\\vira fitriyani\\anaconda3\\lib\\site-packages (from xgboost) (1.7.3)\n",
      "Requirement already satisfied: numpy in c:\\users\\vira fitriyani\\anaconda3\\lib\\site-packages (from xgboost) (1.21.6)\n"
     ]
    }
   ],
   "source": [
    "!pip install xgboost"
   ]
  },
  {
   "cell_type": "code",
   "execution_count": 6,
   "metadata": {
    "id": "8ZnXB6oBQOHR"
   },
   "outputs": [],
   "source": [
    "import pandas as pd\n",
    "import numpy as np\n",
    "import matplotlib.pyplot as plt\n",
    "import seaborn as sns\n",
    "\n",
    "from sklearn.preprocessing import LabelEncoder\n",
    "from sklearn.preprocessing import RobustScaler\n",
    "from sklearn.model_selection import train_test_split\n",
    "from sklearn.ensemble import RandomForestClassifier\n",
    "from sklearn.metrics import classification_report, precision_score, recall_score, f1_score\n",
    "from sklearn.model_selection import GridSearchCV\n",
    "\n",
    "import xgboost\n",
    "from xgboost import XGBClassifier\n",
    "\n",
    "import warnings\n",
    "warnings.filterwarnings('ignore')"
   ]
  },
  {
   "cell_type": "markdown",
   "metadata": {
    "id": "zI1Q7sMrQTyw"
   },
   "source": [
    "#### Setup Data"
   ]
  },
  {
   "cell_type": "code",
   "execution_count": 7,
   "metadata": {
    "id": "64_yalvoPqhS"
   },
   "outputs": [],
   "source": [
    "df = pd.read_csv('data_D.csv')"
   ]
  },
  {
   "cell_type": "code",
   "execution_count": 8,
   "metadata": {
    "colab": {
     "base_uri": "https://localhost:8080/",
     "height": 206
    },
    "id": "iJdUR3mhQM15",
    "outputId": "7b8182bb-a216-49da-bd7a-fcc73807e2d3"
   },
   "outputs": [
    {
     "data": {
      "text/html": [
       "<div>\n",
       "<style scoped>\n",
       "    .dataframe tbody tr th:only-of-type {\n",
       "        vertical-align: middle;\n",
       "    }\n",
       "\n",
       "    .dataframe tbody tr th {\n",
       "        vertical-align: top;\n",
       "    }\n",
       "\n",
       "    .dataframe thead th {\n",
       "        text-align: right;\n",
       "    }\n",
       "</style>\n",
       "<table border=\"1\" class=\"dataframe\">\n",
       "  <thead>\n",
       "    <tr style=\"text-align: right;\">\n",
       "      <th></th>\n",
       "      <th>Unnamed: 0</th>\n",
       "      <th>id</th>\n",
       "      <th>CustomerId</th>\n",
       "      <th>Surname</th>\n",
       "      <th>CreditScore</th>\n",
       "      <th>Geography</th>\n",
       "      <th>Gender</th>\n",
       "      <th>Age</th>\n",
       "      <th>Tenure</th>\n",
       "      <th>Balance</th>\n",
       "      <th>NumOfProducts</th>\n",
       "      <th>HasCrCard</th>\n",
       "      <th>IsActiveMember</th>\n",
       "      <th>EstimatedSalary</th>\n",
       "      <th>churn</th>\n",
       "    </tr>\n",
       "  </thead>\n",
       "  <tbody>\n",
       "    <tr>\n",
       "      <th>0</th>\n",
       "      <td>0</td>\n",
       "      <td>106473</td>\n",
       "      <td>15639576</td>\n",
       "      <td>Sarratt</td>\n",
       "      <td>652.0</td>\n",
       "      <td>France</td>\n",
       "      <td>Female</td>\n",
       "      <td>65.0</td>\n",
       "      <td>3</td>\n",
       "      <td>0.00</td>\n",
       "      <td>2</td>\n",
       "      <td>1</td>\n",
       "      <td>1</td>\n",
       "      <td>136592.24</td>\n",
       "      <td>0</td>\n",
       "    </tr>\n",
       "    <tr>\n",
       "      <th>1</th>\n",
       "      <td>1</td>\n",
       "      <td>62345</td>\n",
       "      <td>15769582</td>\n",
       "      <td>Hanson</td>\n",
       "      <td>464.0</td>\n",
       "      <td>France</td>\n",
       "      <td>Male</td>\n",
       "      <td>35.0</td>\n",
       "      <td>4</td>\n",
       "      <td>0.00</td>\n",
       "      <td>1</td>\n",
       "      <td>0</td>\n",
       "      <td>0</td>\n",
       "      <td>99505.75</td>\n",
       "      <td>1</td>\n",
       "    </tr>\n",
       "    <tr>\n",
       "      <th>2</th>\n",
       "      <td>2</td>\n",
       "      <td>126615</td>\n",
       "      <td>15675888</td>\n",
       "      <td>Austin</td>\n",
       "      <td>620.0</td>\n",
       "      <td>Germany</td>\n",
       "      <td>Female</td>\n",
       "      <td>39.0</td>\n",
       "      <td>6</td>\n",
       "      <td>129401.87</td>\n",
       "      <td>2</td>\n",
       "      <td>1</td>\n",
       "      <td>1</td>\n",
       "      <td>102681.32</td>\n",
       "      <td>1</td>\n",
       "    </tr>\n",
       "    <tr>\n",
       "      <th>3</th>\n",
       "      <td>3</td>\n",
       "      <td>35909</td>\n",
       "      <td>15786617</td>\n",
       "      <td>Tuan</td>\n",
       "      <td>598.0</td>\n",
       "      <td>France</td>\n",
       "      <td>Female</td>\n",
       "      <td>30.0</td>\n",
       "      <td>7</td>\n",
       "      <td>0.00</td>\n",
       "      <td>2</td>\n",
       "      <td>1</td>\n",
       "      <td>0</td>\n",
       "      <td>141210.18</td>\n",
       "      <td>0</td>\n",
       "    </tr>\n",
       "    <tr>\n",
       "      <th>4</th>\n",
       "      <td>4</td>\n",
       "      <td>45175</td>\n",
       "      <td>15757310</td>\n",
       "      <td>Li Fonti</td>\n",
       "      <td>682.0</td>\n",
       "      <td>Germany</td>\n",
       "      <td>Female</td>\n",
       "      <td>46.0</td>\n",
       "      <td>4</td>\n",
       "      <td>107720.57</td>\n",
       "      <td>1</td>\n",
       "      <td>0</td>\n",
       "      <td>0</td>\n",
       "      <td>93832.33</td>\n",
       "      <td>1</td>\n",
       "    </tr>\n",
       "  </tbody>\n",
       "</table>\n",
       "</div>"
      ],
      "text/plain": [
       "   Unnamed: 0      id  CustomerId   Surname  CreditScore Geography  Gender  \\\n",
       "0           0  106473    15639576   Sarratt        652.0    France  Female   \n",
       "1           1   62345    15769582    Hanson        464.0    France    Male   \n",
       "2           2  126615    15675888    Austin        620.0   Germany  Female   \n",
       "3           3   35909    15786617      Tuan        598.0    France  Female   \n",
       "4           4   45175    15757310  Li Fonti        682.0   Germany  Female   \n",
       "\n",
       "    Age  Tenure    Balance  NumOfProducts  HasCrCard  IsActiveMember  \\\n",
       "0  65.0       3       0.00              2          1               1   \n",
       "1  35.0       4       0.00              1          0               0   \n",
       "2  39.0       6  129401.87              2          1               1   \n",
       "3  30.0       7       0.00              2          1               0   \n",
       "4  46.0       4  107720.57              1          0               0   \n",
       "\n",
       "   EstimatedSalary  churn  \n",
       "0        136592.24      0  \n",
       "1         99505.75      1  \n",
       "2        102681.32      1  \n",
       "3        141210.18      0  \n",
       "4         93832.33      1  "
      ]
     },
     "execution_count": 8,
     "metadata": {},
     "output_type": "execute_result"
    }
   ],
   "source": [
    "df.head()"
   ]
  },
  {
   "cell_type": "code",
   "execution_count": 9,
   "metadata": {
    "colab": {
     "base_uri": "https://localhost:8080/",
     "height": 206
    },
    "id": "biKEFhudQbO9",
    "outputId": "b62b94b5-8247-4493-97b2-dd3ff9926ac2"
   },
   "outputs": [
    {
     "data": {
      "text/html": [
       "<div>\n",
       "<style scoped>\n",
       "    .dataframe tbody tr th:only-of-type {\n",
       "        vertical-align: middle;\n",
       "    }\n",
       "\n",
       "    .dataframe tbody tr th {\n",
       "        vertical-align: top;\n",
       "    }\n",
       "\n",
       "    .dataframe thead th {\n",
       "        text-align: right;\n",
       "    }\n",
       "</style>\n",
       "<table border=\"1\" class=\"dataframe\">\n",
       "  <thead>\n",
       "    <tr style=\"text-align: right;\">\n",
       "      <th></th>\n",
       "      <th>Unnamed: 0</th>\n",
       "      <th>id</th>\n",
       "      <th>CustomerId</th>\n",
       "      <th>Surname</th>\n",
       "      <th>CreditScore</th>\n",
       "      <th>Geography</th>\n",
       "      <th>Gender</th>\n",
       "      <th>Age</th>\n",
       "      <th>Tenure</th>\n",
       "      <th>Balance</th>\n",
       "      <th>NumOfProducts</th>\n",
       "      <th>HasCrCard</th>\n",
       "      <th>IsActiveMember</th>\n",
       "      <th>EstimatedSalary</th>\n",
       "      <th>churn</th>\n",
       "    </tr>\n",
       "  </thead>\n",
       "  <tbody>\n",
       "    <tr>\n",
       "      <th>41254</th>\n",
       "      <td>41254</td>\n",
       "      <td>105680</td>\n",
       "      <td>15671769</td>\n",
       "      <td>Nkemdirim</td>\n",
       "      <td>567.0</td>\n",
       "      <td>France</td>\n",
       "      <td>Female</td>\n",
       "      <td>37.0</td>\n",
       "      <td>1</td>\n",
       "      <td>121801.49</td>\n",
       "      <td>1</td>\n",
       "      <td>0</td>\n",
       "      <td>0</td>\n",
       "      <td>177028.00</td>\n",
       "      <td>0</td>\n",
       "    </tr>\n",
       "    <tr>\n",
       "      <th>41255</th>\n",
       "      <td>41255</td>\n",
       "      <td>70760</td>\n",
       "      <td>15570299</td>\n",
       "      <td>Martin</td>\n",
       "      <td>584.0</td>\n",
       "      <td>Germany</td>\n",
       "      <td>Female</td>\n",
       "      <td>31.0</td>\n",
       "      <td>4</td>\n",
       "      <td>152622.34</td>\n",
       "      <td>1</td>\n",
       "      <td>1</td>\n",
       "      <td>0</td>\n",
       "      <td>99298.80</td>\n",
       "      <td>0</td>\n",
       "    </tr>\n",
       "    <tr>\n",
       "      <th>41256</th>\n",
       "      <td>41256</td>\n",
       "      <td>3091</td>\n",
       "      <td>15807593</td>\n",
       "      <td>Tseng</td>\n",
       "      <td>684.0</td>\n",
       "      <td>France</td>\n",
       "      <td>Male</td>\n",
       "      <td>36.0</td>\n",
       "      <td>4</td>\n",
       "      <td>0.00</td>\n",
       "      <td>1</td>\n",
       "      <td>1</td>\n",
       "      <td>0</td>\n",
       "      <td>152992.04</td>\n",
       "      <td>0</td>\n",
       "    </tr>\n",
       "    <tr>\n",
       "      <th>41257</th>\n",
       "      <td>41257</td>\n",
       "      <td>20130</td>\n",
       "      <td>15583460</td>\n",
       "      <td>Nwankwo</td>\n",
       "      <td>709.0</td>\n",
       "      <td>France</td>\n",
       "      <td>Male</td>\n",
       "      <td>38.0</td>\n",
       "      <td>3</td>\n",
       "      <td>0.00</td>\n",
       "      <td>2</td>\n",
       "      <td>1</td>\n",
       "      <td>1</td>\n",
       "      <td>185580.23</td>\n",
       "      <td>0</td>\n",
       "    </tr>\n",
       "    <tr>\n",
       "      <th>41258</th>\n",
       "      <td>41258</td>\n",
       "      <td>161328</td>\n",
       "      <td>15681655</td>\n",
       "      <td>Hs?</td>\n",
       "      <td>850.0</td>\n",
       "      <td>France</td>\n",
       "      <td>Male</td>\n",
       "      <td>43.0</td>\n",
       "      <td>2</td>\n",
       "      <td>0.00</td>\n",
       "      <td>2</td>\n",
       "      <td>1</td>\n",
       "      <td>1</td>\n",
       "      <td>93882.93</td>\n",
       "      <td>0</td>\n",
       "    </tr>\n",
       "  </tbody>\n",
       "</table>\n",
       "</div>"
      ],
      "text/plain": [
       "       Unnamed: 0      id  CustomerId    Surname  CreditScore Geography  \\\n",
       "41254       41254  105680    15671769  Nkemdirim        567.0    France   \n",
       "41255       41255   70760    15570299     Martin        584.0   Germany   \n",
       "41256       41256    3091    15807593      Tseng        684.0    France   \n",
       "41257       41257   20130    15583460    Nwankwo        709.0    France   \n",
       "41258       41258  161328    15681655        Hs?        850.0    France   \n",
       "\n",
       "       Gender   Age  Tenure    Balance  NumOfProducts  HasCrCard  \\\n",
       "41254  Female  37.0       1  121801.49              1          0   \n",
       "41255  Female  31.0       4  152622.34              1          1   \n",
       "41256    Male  36.0       4       0.00              1          1   \n",
       "41257    Male  38.0       3       0.00              2          1   \n",
       "41258    Male  43.0       2       0.00              2          1   \n",
       "\n",
       "       IsActiveMember  EstimatedSalary  churn  \n",
       "41254               0        177028.00      0  \n",
       "41255               0         99298.80      0  \n",
       "41256               0        152992.04      0  \n",
       "41257               1        185580.23      0  \n",
       "41258               1         93882.93      0  "
      ]
     },
     "execution_count": 9,
     "metadata": {},
     "output_type": "execute_result"
    }
   ],
   "source": [
    "df.tail()"
   ]
  },
  {
   "cell_type": "code",
   "execution_count": 10,
   "metadata": {
    "colab": {
     "base_uri": "https://localhost:8080/",
     "height": 0
    },
    "id": "-FE7cJDzQdTC",
    "outputId": "82e54d64-c597-4877-d4e8-b7d943b4ace9"
   },
   "outputs": [
    {
     "data": {
      "text/plain": [
       "(41259, 15)"
      ]
     },
     "execution_count": 10,
     "metadata": {},
     "output_type": "execute_result"
    }
   ],
   "source": [
    "df.shape"
   ]
  },
  {
   "cell_type": "code",
   "execution_count": 11,
   "metadata": {
    "colab": {
     "base_uri": "https://localhost:8080/",
     "height": 0
    },
    "id": "cvZkB-nbQevW",
    "outputId": "2fb2bffa-7bab-4fc0-ffff-256d31178ee5"
   },
   "outputs": [
    {
     "name": "stdout",
     "output_type": "stream",
     "text": [
      "<class 'pandas.core.frame.DataFrame'>\n",
      "RangeIndex: 41259 entries, 0 to 41258\n",
      "Data columns (total 15 columns):\n",
      " #   Column           Non-Null Count  Dtype  \n",
      "---  ------           --------------  -----  \n",
      " 0   Unnamed: 0       41259 non-null  int64  \n",
      " 1   id               41259 non-null  int64  \n",
      " 2   CustomerId       41259 non-null  int64  \n",
      " 3   Surname          41259 non-null  object \n",
      " 4   CreditScore      41251 non-null  float64\n",
      " 5   Geography        41259 non-null  object \n",
      " 6   Gender           41259 non-null  object \n",
      " 7   Age              41259 non-null  float64\n",
      " 8   Tenure           41259 non-null  int64  \n",
      " 9   Balance          41259 non-null  float64\n",
      " 10  NumOfProducts    41259 non-null  int64  \n",
      " 11  HasCrCard        41259 non-null  int64  \n",
      " 12  IsActiveMember   41259 non-null  int64  \n",
      " 13  EstimatedSalary  41259 non-null  float64\n",
      " 14  churn            41259 non-null  int64  \n",
      "dtypes: float64(4), int64(8), object(3)\n",
      "memory usage: 4.7+ MB\n"
     ]
    }
   ],
   "source": [
    "df.info()"
   ]
  },
  {
   "cell_type": "markdown",
   "metadata": {
    "id": "bN2DN2wctjTp"
   },
   "source": [
    "#### Split Data"
   ]
  },
  {
   "cell_type": "code",
   "execution_count": 12,
   "metadata": {
    "id": "Ze8TWt7XtH1Q"
   },
   "outputs": [],
   "source": [
    "input_df = df.drop('churn', axis=1)\n",
    "output_df = df['churn']"
   ]
  },
  {
   "cell_type": "code",
   "execution_count": 13,
   "metadata": {
    "id": "ow9PXkkJt_tc"
   },
   "outputs": [],
   "source": [
    "x_train, x_test, y_train, y_test = train_test_split(input_df, output_df, test_size = 0.2, random_state = 42)"
   ]
  },
  {
   "cell_type": "markdown",
   "metadata": {
    "id": "0sB_4XKa9G7t"
   },
   "source": [
    "#### Preprocessing Data"
   ]
  },
  {
   "cell_type": "code",
   "execution_count": 14,
   "metadata": {
    "id": "shlkIiFHQg53"
   },
   "outputs": [],
   "source": [
    "# Convert categorical to numerical\n",
    "gender_encoded= {\"Gender\": {\"Male\":1, \"Female\":0}}\n",
    "x_train = x_train.replace(gender_encoded)\n",
    "x_test = x_test.replace(gender_encoded)"
   ]
  },
  {
   "cell_type": "code",
   "execution_count": 48,
   "metadata": {},
   "outputs": [
    {
     "data": {
      "text/plain": [
       "France     23520\n",
       "Spain       9081\n",
       "Germany     8658\n",
       "Name: Geography, dtype: int64"
      ]
     },
     "execution_count": 48,
     "metadata": {},
     "output_type": "execute_result"
    }
   ],
   "source": [
    "df['Geography'].value_counts()"
   ]
  },
  {
   "cell_type": "code",
   "execution_count": 15,
   "metadata": {
    "id": "0c2NshIbD1yK"
   },
   "outputs": [],
   "source": [
    "label_encoding = LabelEncoder()\n",
    "x_train['Surname'] = label_encoding.fit_transform(x_train['Surname'])\n",
    "x_test['Surname'] = label_encoding.fit_transform(x_test['Surname'])\n",
    "x_train['Geography'] = label_encoding.fit_transform(x_train['Geography'])\n",
    "x_test['Geography'] = label_encoding.fit_transform(x_test['Geography'])"
   ]
  },
  {
   "cell_type": "code",
   "execution_count": 16,
   "metadata": {
    "colab": {
     "base_uri": "https://localhost:8080/",
     "height": 206
    },
    "id": "jsDQwYZYCHTi",
    "outputId": "d2e372d9-eac2-4e3b-ed7b-0b011dc79840"
   },
   "outputs": [
    {
     "data": {
      "text/html": [
       "<div>\n",
       "<style scoped>\n",
       "    .dataframe tbody tr th:only-of-type {\n",
       "        vertical-align: middle;\n",
       "    }\n",
       "\n",
       "    .dataframe tbody tr th {\n",
       "        vertical-align: top;\n",
       "    }\n",
       "\n",
       "    .dataframe thead th {\n",
       "        text-align: right;\n",
       "    }\n",
       "</style>\n",
       "<table border=\"1\" class=\"dataframe\">\n",
       "  <thead>\n",
       "    <tr style=\"text-align: right;\">\n",
       "      <th></th>\n",
       "      <th>Unnamed: 0</th>\n",
       "      <th>id</th>\n",
       "      <th>CustomerId</th>\n",
       "      <th>Surname</th>\n",
       "      <th>CreditScore</th>\n",
       "      <th>Geography</th>\n",
       "      <th>Gender</th>\n",
       "      <th>Age</th>\n",
       "      <th>Tenure</th>\n",
       "      <th>Balance</th>\n",
       "      <th>NumOfProducts</th>\n",
       "      <th>HasCrCard</th>\n",
       "      <th>IsActiveMember</th>\n",
       "      <th>EstimatedSalary</th>\n",
       "    </tr>\n",
       "  </thead>\n",
       "  <tbody>\n",
       "    <tr>\n",
       "      <th>23629</th>\n",
       "      <td>23629</td>\n",
       "      <td>15068</td>\n",
       "      <td>15796722</td>\n",
       "      <td>1453</td>\n",
       "      <td>708.0</td>\n",
       "      <td>0</td>\n",
       "      <td>0</td>\n",
       "      <td>45.0</td>\n",
       "      <td>2</td>\n",
       "      <td>0.0</td>\n",
       "      <td>1</td>\n",
       "      <td>1</td>\n",
       "      <td>0</td>\n",
       "      <td>182076.97</td>\n",
       "    </tr>\n",
       "    <tr>\n",
       "      <th>6996</th>\n",
       "      <td>6996</td>\n",
       "      <td>85710</td>\n",
       "      <td>15591711</td>\n",
       "      <td>1972</td>\n",
       "      <td>676.0</td>\n",
       "      <td>2</td>\n",
       "      <td>1</td>\n",
       "      <td>35.0</td>\n",
       "      <td>7</td>\n",
       "      <td>0.0</td>\n",
       "      <td>2</td>\n",
       "      <td>1</td>\n",
       "      <td>0</td>\n",
       "      <td>166053.92</td>\n",
       "    </tr>\n",
       "    <tr>\n",
       "      <th>26510</th>\n",
       "      <td>26510</td>\n",
       "      <td>55520</td>\n",
       "      <td>15666047</td>\n",
       "      <td>601</td>\n",
       "      <td>645.0</td>\n",
       "      <td>0</td>\n",
       "      <td>0</td>\n",
       "      <td>36.0</td>\n",
       "      <td>4</td>\n",
       "      <td>133980.8</td>\n",
       "      <td>1</td>\n",
       "      <td>1</td>\n",
       "      <td>1</td>\n",
       "      <td>112333.63</td>\n",
       "    </tr>\n",
       "    <tr>\n",
       "      <th>40020</th>\n",
       "      <td>40020</td>\n",
       "      <td>157017</td>\n",
       "      <td>15716443</td>\n",
       "      <td>397</td>\n",
       "      <td>791.0</td>\n",
       "      <td>2</td>\n",
       "      <td>1</td>\n",
       "      <td>37.0</td>\n",
       "      <td>1</td>\n",
       "      <td>0.0</td>\n",
       "      <td>2</td>\n",
       "      <td>1</td>\n",
       "      <td>0</td>\n",
       "      <td>132973.17</td>\n",
       "    </tr>\n",
       "    <tr>\n",
       "      <th>17668</th>\n",
       "      <td>17668</td>\n",
       "      <td>19223</td>\n",
       "      <td>15778955</td>\n",
       "      <td>1902</td>\n",
       "      <td>637.0</td>\n",
       "      <td>0</td>\n",
       "      <td>0</td>\n",
       "      <td>48.0</td>\n",
       "      <td>7</td>\n",
       "      <td>0.0</td>\n",
       "      <td>2</td>\n",
       "      <td>1</td>\n",
       "      <td>1</td>\n",
       "      <td>146573.66</td>\n",
       "    </tr>\n",
       "  </tbody>\n",
       "</table>\n",
       "</div>"
      ],
      "text/plain": [
       "       Unnamed: 0      id  CustomerId  Surname  CreditScore  Geography  \\\n",
       "23629       23629   15068    15796722     1453        708.0          0   \n",
       "6996         6996   85710    15591711     1972        676.0          2   \n",
       "26510       26510   55520    15666047      601        645.0          0   \n",
       "40020       40020  157017    15716443      397        791.0          2   \n",
       "17668       17668   19223    15778955     1902        637.0          0   \n",
       "\n",
       "       Gender   Age  Tenure   Balance  NumOfProducts  HasCrCard  \\\n",
       "23629       0  45.0       2       0.0              1          1   \n",
       "6996        1  35.0       7       0.0              2          1   \n",
       "26510       0  36.0       4  133980.8              1          1   \n",
       "40020       1  37.0       1       0.0              2          1   \n",
       "17668       0  48.0       7       0.0              2          1   \n",
       "\n",
       "       IsActiveMember  EstimatedSalary  \n",
       "23629               0        182076.97  \n",
       "6996                0        166053.92  \n",
       "26510               1        112333.63  \n",
       "40020               0        132973.17  \n",
       "17668               1        146573.66  "
      ]
     },
     "execution_count": 16,
     "metadata": {},
     "output_type": "execute_result"
    }
   ],
   "source": [
    "x_train.head()"
   ]
  },
  {
   "cell_type": "code",
   "execution_count": 17,
   "metadata": {
    "colab": {
     "base_uri": "https://localhost:8080/",
     "height": 0
    },
    "id": "7XTXA2VtuvEG",
    "outputId": "e8e8d86e-e2bf-49db-85b1-552e6563f3dd"
   },
   "outputs": [
    {
     "data": {
      "text/plain": [
       "Unnamed: 0         0\n",
       "id                 0\n",
       "CustomerId         0\n",
       "Surname            0\n",
       "CreditScore        7\n",
       "Geography          0\n",
       "Gender             0\n",
       "Age                0\n",
       "Tenure             0\n",
       "Balance            0\n",
       "NumOfProducts      0\n",
       "HasCrCard          0\n",
       "IsActiveMember     0\n",
       "EstimatedSalary    0\n",
       "dtype: int64"
      ]
     },
     "execution_count": 17,
     "metadata": {},
     "output_type": "execute_result"
    }
   ],
   "source": [
    "# Missing Value\n",
    "x_train.isna().sum()"
   ]
  },
  {
   "cell_type": "code",
   "execution_count": 18,
   "metadata": {
    "colab": {
     "base_uri": "https://localhost:8080/",
     "height": 0
    },
    "id": "oZo1aQ_Nt3Ew",
    "outputId": "bd1e2d96-69ba-40b7-a383-6f23f1414707"
   },
   "outputs": [
    {
     "data": {
      "text/plain": [
       "Unnamed: 0         0\n",
       "id                 0\n",
       "CustomerId         0\n",
       "Surname            0\n",
       "CreditScore        1\n",
       "Geography          0\n",
       "Gender             0\n",
       "Age                0\n",
       "Tenure             0\n",
       "Balance            0\n",
       "NumOfProducts      0\n",
       "HasCrCard          0\n",
       "IsActiveMember     0\n",
       "EstimatedSalary    0\n",
       "dtype: int64"
      ]
     },
     "execution_count": 18,
     "metadata": {},
     "output_type": "execute_result"
    }
   ],
   "source": [
    "x_test.isna().sum()"
   ]
  },
  {
   "cell_type": "code",
   "execution_count": 19,
   "metadata": {
    "colab": {
     "base_uri": "https://localhost:8080/",
     "height": 447
    },
    "id": "ccaGqNSzvDQ9",
    "outputId": "fb39371a-acd5-4d65-e982-22765956d8b7"
   },
   "outputs": [
    {
     "data": {
      "text/plain": [
       "<AxesSubplot:>"
      ]
     },
     "execution_count": 19,
     "metadata": {},
     "output_type": "execute_result"
    },
    {
     "data": {
      "image/png": "[encoded data removed]",
      "text/plain": [
       "<Figure size 432x288 with 1 Axes>"
      ]
     },
     "metadata": {
      "needs_background": "light"
     },
     "output_type": "display_data"
    }
   ],
   "source": [
    "x_train.boxplot(column=['CreditScore'])"
   ]
  },
  {
   "cell_type": "code",
   "execution_count": 20,
   "metadata": {
    "colab": {
     "base_uri": "https://localhost:8080/",
     "height": 0
    },
    "id": "CC90obcQvLkv",
    "outputId": "162e8f15-abf3-488f-d95c-01c5800ab1f5"
   },
   "outputs": [
    {
     "name": "stdout",
     "output_type": "stream",
     "text": [
      "Median CreditScore:  659.0\n"
     ]
    }
   ],
   "source": [
    "# Handling Missing Values with Median, cause there's outliers in CreditScore\n",
    "print(\"Median CreditScore: \", x_train['CreditScore'].median())"
   ]
  },
  {
   "cell_type": "code",
   "execution_count": 21,
   "metadata": {
    "id": "OaOJf5KqwRc-"
   },
   "outputs": [],
   "source": [
    "x_train['CreditScore'].fillna(659.0, inplace=True)\n",
    "x_test['CreditScore'].fillna(659.0, inplace=True)"
   ]
  },
  {
   "cell_type": "code",
   "execution_count": 22,
   "metadata": {
    "colab": {
     "base_uri": "https://localhost:8080/",
     "height": 0
    },
    "id": "4Z-By72FDw50",
    "outputId": "3b14aa7a-0220-402d-fa9d-df3d2c05492a"
   },
   "outputs": [
    {
     "name": "stdout",
     "output_type": "stream",
     "text": [
      "<class 'pandas.core.frame.DataFrame'>\n",
      "Int64Index: 33007 entries, 23629 to 15795\n",
      "Data columns (total 14 columns):\n",
      " #   Column           Non-Null Count  Dtype  \n",
      "---  ------           --------------  -----  \n",
      " 0   Unnamed: 0       33007 non-null  int64  \n",
      " 1   id               33007 non-null  int64  \n",
      " 2   CustomerId       33007 non-null  int64  \n",
      " 3   Surname          33007 non-null  int32  \n",
      " 4   CreditScore      33007 non-null  float64\n",
      " 5   Geography        33007 non-null  int32  \n",
      " 6   Gender           33007 non-null  int64  \n",
      " 7   Age              33007 non-null  float64\n",
      " 8   Tenure           33007 non-null  int64  \n",
      " 9   Balance          33007 non-null  float64\n",
      " 10  NumOfProducts    33007 non-null  int64  \n",
      " 11  HasCrCard        33007 non-null  int64  \n",
      " 12  IsActiveMember   33007 non-null  int64  \n",
      " 13  EstimatedSalary  33007 non-null  float64\n",
      "dtypes: float64(4), int32(2), int64(8)\n",
      "memory usage: 3.5 MB\n"
     ]
    }
   ],
   "source": [
    "x_train.info()"
   ]
  },
  {
   "cell_type": "code",
   "execution_count": 23,
   "metadata": {
    "colab": {
     "base_uri": "https://localhost:8080/",
     "height": 300
    },
    "id": "D_F_AWeYbUYM",
    "outputId": "11660cb6-243b-4617-de42-5756d58e5cc6"
   },
   "outputs": [
    {
     "data": {
      "text/html": [
       "<div>\n",
       "<style scoped>\n",
       "    .dataframe tbody tr th:only-of-type {\n",
       "        vertical-align: middle;\n",
       "    }\n",
       "\n",
       "    .dataframe tbody tr th {\n",
       "        vertical-align: top;\n",
       "    }\n",
       "\n",
       "    .dataframe thead th {\n",
       "        text-align: right;\n",
       "    }\n",
       "</style>\n",
       "<table border=\"1\" class=\"dataframe\">\n",
       "  <thead>\n",
       "    <tr style=\"text-align: right;\">\n",
       "      <th></th>\n",
       "      <th>Unnamed: 0</th>\n",
       "      <th>id</th>\n",
       "      <th>CustomerId</th>\n",
       "      <th>CreditScore</th>\n",
       "      <th>Age</th>\n",
       "      <th>Tenure</th>\n",
       "      <th>Balance</th>\n",
       "      <th>NumOfProducts</th>\n",
       "      <th>HasCrCard</th>\n",
       "      <th>IsActiveMember</th>\n",
       "      <th>EstimatedSalary</th>\n",
       "      <th>churn</th>\n",
       "    </tr>\n",
       "  </thead>\n",
       "  <tbody>\n",
       "    <tr>\n",
       "      <th>count</th>\n",
       "      <td>41259.000000</td>\n",
       "      <td>41259.000000</td>\n",
       "      <td>4.125900e+04</td>\n",
       "      <td>41251.000000</td>\n",
       "      <td>41259.000000</td>\n",
       "      <td>41259.000000</td>\n",
       "      <td>41259.000000</td>\n",
       "      <td>41259.000000</td>\n",
       "      <td>41259.000000</td>\n",
       "      <td>41259.000000</td>\n",
       "      <td>41259.000000</td>\n",
       "      <td>41259.000000</td>\n",
       "    </tr>\n",
       "    <tr>\n",
       "      <th>mean</th>\n",
       "      <td>20629.000000</td>\n",
       "      <td>82171.693231</td>\n",
       "      <td>1.569221e+07</td>\n",
       "      <td>656.278733</td>\n",
       "      <td>38.060254</td>\n",
       "      <td>4.999127</td>\n",
       "      <td>55712.496615</td>\n",
       "      <td>1.554328</td>\n",
       "      <td>0.754405</td>\n",
       "      <td>0.496667</td>\n",
       "      <td>112308.502138</td>\n",
       "      <td>0.211324</td>\n",
       "    </tr>\n",
       "    <tr>\n",
       "      <th>std</th>\n",
       "      <td>11910.591715</td>\n",
       "      <td>47498.739183</td>\n",
       "      <td>7.137974e+04</td>\n",
       "      <td>80.062353</td>\n",
       "      <td>8.801094</td>\n",
       "      <td>2.802930</td>\n",
       "      <td>62858.019091</td>\n",
       "      <td>0.545629</td>\n",
       "      <td>0.430445</td>\n",
       "      <td>0.499995</td>\n",
       "      <td>50367.874510</td>\n",
       "      <td>0.408252</td>\n",
       "    </tr>\n",
       "    <tr>\n",
       "      <th>min</th>\n",
       "      <td>0.000000</td>\n",
       "      <td>3.000000</td>\n",
       "      <td>1.556570e+07</td>\n",
       "      <td>350.000000</td>\n",
       "      <td>18.000000</td>\n",
       "      <td>0.000000</td>\n",
       "      <td>0.000000</td>\n",
       "      <td>1.000000</td>\n",
       "      <td>0.000000</td>\n",
       "      <td>0.000000</td>\n",
       "      <td>11.580000</td>\n",
       "      <td>0.000000</td>\n",
       "    </tr>\n",
       "    <tr>\n",
       "      <th>25%</th>\n",
       "      <td>10314.500000</td>\n",
       "      <td>41098.500000</td>\n",
       "      <td>1.563347e+07</td>\n",
       "      <td>598.000000</td>\n",
       "      <td>32.000000</td>\n",
       "      <td>3.000000</td>\n",
       "      <td>0.000000</td>\n",
       "      <td>1.000000</td>\n",
       "      <td>1.000000</td>\n",
       "      <td>0.000000</td>\n",
       "      <td>74580.800000</td>\n",
       "      <td>0.000000</td>\n",
       "    </tr>\n",
       "    <tr>\n",
       "      <th>50%</th>\n",
       "      <td>20629.000000</td>\n",
       "      <td>81851.000000</td>\n",
       "      <td>1.569013e+07</td>\n",
       "      <td>659.000000</td>\n",
       "      <td>37.000000</td>\n",
       "      <td>5.000000</td>\n",
       "      <td>0.000000</td>\n",
       "      <td>2.000000</td>\n",
       "      <td>1.000000</td>\n",
       "      <td>0.000000</td>\n",
       "      <td>117036.380000</td>\n",
       "      <td>0.000000</td>\n",
       "    </tr>\n",
       "    <tr>\n",
       "      <th>75%</th>\n",
       "      <td>30943.500000</td>\n",
       "      <td>123064.500000</td>\n",
       "      <td>1.575714e+07</td>\n",
       "      <td>710.000000</td>\n",
       "      <td>42.000000</td>\n",
       "      <td>7.000000</td>\n",
       "      <td>120165.300000</td>\n",
       "      <td>2.000000</td>\n",
       "      <td>1.000000</td>\n",
       "      <td>1.000000</td>\n",
       "      <td>154811.290000</td>\n",
       "      <td>0.000000</td>\n",
       "    </tr>\n",
       "    <tr>\n",
       "      <th>max</th>\n",
       "      <td>41258.000000</td>\n",
       "      <td>165033.000000</td>\n",
       "      <td>1.581569e+07</td>\n",
       "      <td>850.000000</td>\n",
       "      <td>92.000000</td>\n",
       "      <td>10.000000</td>\n",
       "      <td>250898.090000</td>\n",
       "      <td>4.000000</td>\n",
       "      <td>1.000000</td>\n",
       "      <td>1.000000</td>\n",
       "      <td>199992.480000</td>\n",
       "      <td>1.000000</td>\n",
       "    </tr>\n",
       "  </tbody>\n",
       "</table>\n",
       "</div>"
      ],
      "text/plain": [
       "         Unnamed: 0             id    CustomerId   CreditScore           Age  \\\n",
       "count  41259.000000   41259.000000  4.125900e+04  41251.000000  41259.000000   \n",
       "mean   20629.000000   82171.693231  1.569221e+07    656.278733     38.060254   \n",
       "std    11910.591715   47498.739183  7.137974e+04     80.062353      8.801094   \n",
       "min        0.000000       3.000000  1.556570e+07    350.000000     18.000000   \n",
       "25%    10314.500000   41098.500000  1.563347e+07    598.000000     32.000000   \n",
       "50%    20629.000000   81851.000000  1.569013e+07    659.000000     37.000000   \n",
       "75%    30943.500000  123064.500000  1.575714e+07    710.000000     42.000000   \n",
       "max    41258.000000  165033.000000  1.581569e+07    850.000000     92.000000   \n",
       "\n",
       "             Tenure        Balance  NumOfProducts     HasCrCard  \\\n",
       "count  41259.000000   41259.000000   41259.000000  41259.000000   \n",
       "mean       4.999127   55712.496615       1.554328      0.754405   \n",
       "std        2.802930   62858.019091       0.545629      0.430445   \n",
       "min        0.000000       0.000000       1.000000      0.000000   \n",
       "25%        3.000000       0.000000       1.000000      1.000000   \n",
       "50%        5.000000       0.000000       2.000000      1.000000   \n",
       "75%        7.000000  120165.300000       2.000000      1.000000   \n",
       "max       10.000000  250898.090000       4.000000      1.000000   \n",
       "\n",
       "       IsActiveMember  EstimatedSalary         churn  \n",
       "count    41259.000000     41259.000000  41259.000000  \n",
       "mean         0.496667    112308.502138      0.211324  \n",
       "std          0.499995     50367.874510      0.408252  \n",
       "min          0.000000        11.580000      0.000000  \n",
       "25%          0.000000     74580.800000      0.000000  \n",
       "50%          0.000000    117036.380000      0.000000  \n",
       "75%          1.000000    154811.290000      0.000000  \n",
       "max          1.000000    199992.480000      1.000000  "
      ]
     },
     "execution_count": 23,
     "metadata": {},
     "output_type": "execute_result"
    }
   ],
   "source": [
    "# Deskripsi Statistik\n",
    "df.describe()"
   ]
  },
  {
   "cell_type": "code",
   "execution_count": 24,
   "metadata": {
    "colab": {
     "base_uri": "https://localhost:8080/",
     "height": 580
    },
    "id": "6Zz2ckPFEbTW",
    "outputId": "70a72bda-90eb-417e-e8e3-e6ffd6405d27"
   },
   "outputs": [
    {
     "data": {
      "text/plain": [
       "Text(0.5, 1.0, 'Variables Correlating with Churn')"
      ]
     },
     "execution_count": 24,
     "metadata": {},
     "output_type": "execute_result"
    },
    {
     "data": {
      "image/png": "[encoded data removed]",
      "text/plain": [
       "<Figure size 288x432 with 2 Axes>"
      ]
     },
     "metadata": {
      "needs_background": "light"
     },
     "output_type": "display_data"
    }
   ],
   "source": [
    "# Correlation Check\n",
    "train_data = pd.concat([x_train, y_train], axis=1)\n",
    "plt.figure(figsize=(4,6))\n",
    "heatmap = sns.heatmap(train_data.corr() [['churn']].sort_values(by='churn', ascending=False),\n",
    "                      vmin=-1, vmax=1, annot=True, cmap='BrBG')\n",
    "heatmap.set_title('Variables Correlating with Churn', fontdict={'fontsize':18},pad=16)"
   ]
  },
  {
   "cell_type": "markdown",
   "metadata": {
    "id": "1O0erLQ1gn7y"
   },
   "source": [
    "Berdasarkan tingkat korelasi dan juga deskripsi dari data, beberapa variabel yang mungkin tidak menggambarkan identitas nasabah dan/atau tidak berkaitan dengan perbankan akan saya drop, yaitu:\n",
    "- Surname -> berkaitan dengan identitas tetapi tidak mempengaruhi analisis bank\n",
    "- id -> karena sudah terdapat CustomerId\n",
    "- Unnamed: 0 -> data hanya berisi index"
   ]
  },
  {
   "cell_type": "code",
   "execution_count": 25,
   "metadata": {
    "colab": {
     "base_uri": "https://localhost:8080/",
     "height": 0
    },
    "id": "CgGtCeoqhUvZ",
    "outputId": "0ba91415-452f-4d61-c172-637f77ba43e1"
   },
   "outputs": [
    {
     "data": {
      "text/plain": [
       "Index(['CustomerId', 'CreditScore', 'Geography', 'Gender', 'Age', 'Tenure',\n",
       "       'Balance', 'NumOfProducts', 'HasCrCard', 'IsActiveMember',\n",
       "       'EstimatedSalary'],\n",
       "      dtype='object')"
      ]
     },
     "execution_count": 25,
     "metadata": {},
     "output_type": "execute_result"
    }
   ],
   "source": [
    "x_train = x_train.drop(columns=['Surname', 'id', 'Unnamed: 0'])\n",
    "x_train.columns"
   ]
  },
  {
   "cell_type": "code",
   "execution_count": 26,
   "metadata": {
    "colab": {
     "base_uri": "https://localhost:8080/",
     "height": 0
    },
    "id": "HJHXMJUDbS-l",
    "outputId": "64e4011e-cce4-4dd2-80e6-8de456aadd09"
   },
   "outputs": [
    {
     "data": {
      "text/plain": [
       "Index(['CustomerId', 'CreditScore', 'Geography', 'Gender', 'Age', 'Tenure',\n",
       "       'Balance', 'NumOfProducts', 'HasCrCard', 'IsActiveMember',\n",
       "       'EstimatedSalary'],\n",
       "      dtype='object')"
      ]
     },
     "execution_count": 26,
     "metadata": {},
     "output_type": "execute_result"
    }
   ],
   "source": [
    "x_test = x_test.drop(columns=['Surname', 'id', 'Unnamed: 0'])\n",
    "x_test.columns"
   ]
  },
  {
   "cell_type": "code",
   "execution_count": 27,
   "metadata": {
    "colab": {
     "base_uri": "https://localhost:8080/",
     "height": 4472
    },
    "id": "weK6c6WljIf2",
    "outputId": "5dea8e05-fa0f-4fe1-c665-6b1711e147fd"
   },
   "outputs": [
    {
     "data": {
      "image/png": "[encoded data removed]",
      "text/plain": [
       "<Figure size 288x216 with 1 Axes>"
      ]
     },
     "metadata": {
      "needs_background": "light"
     },
     "output_type": "display_data"
    },
    {
     "data": {
      "image/png": "[encoded data removed]",
      "text/plain": [
       "<Figure size 288x216 with 1 Axes>"
      ]
     },
     "metadata": {
      "needs_background": "light"
     },
     "output_type": "display_data"
    },
    {
     "data": {
      "image/png": "[encoded data removed]",
      "text/plain": [
       "<Figure size 288x216 with 1 Axes>"
      ]
     },
     "metadata": {
      "needs_background": "light"
     },
     "output_type": "display_data"
    },
    {
     "data": {
      "image/png": "[encoded data removed]",
      "text/plain": [
       "<Figure size 288x216 with 1 Axes>"
      ]
     },
     "metadata": {
      "needs_background": "light"
     },
     "output_type": "display_data"
    },
    {
     "data": {
      "image/png": "[encoded data removed]",
      "text/plain": [
       "<Figure size 288x216 with 1 Axes>"
      ]
     },
     "metadata": {
      "needs_background": "light"
     },
     "output_type": "display_data"
    },
    {
     "data": {
      "image/png": "[encoded data removed]",
      "text/plain": [
       "<Figure size 288x216 with 1 Axes>"
      ]
     },
     "metadata": {
      "needs_background": "light"
     },
     "output_type": "display_data"
    },
    {
     "data": {
      "image/png": "[encoded data removed]",
      "text/plain": [
       "<Figure size 288x216 with 1 Axes>"
      ]
     },
     "metadata": {
      "needs_background": "light"
     },
     "output_type": "display_data"
    },
    {
     "data": {
      "image/png": "[encoded data removed]",
      "text/plain": [
       "<Figure size 288x216 with 1 Axes>"
      ]
     },
     "metadata": {
      "needs_background": "light"
     },
     "output_type": "display_data"
    },
    {
     "data": {
      "image/png": "[encoded data removed]",
      "text/plain": [
       "<Figure size 288x216 with 1 Axes>"
      ]
     },
     "metadata": {
      "needs_background": "light"
     },
     "output_type": "display_data"
    },
    {
     "data": {
      "image/png": "[encoded data removed]",
      "text/plain": [
       "<Figure size 288x216 with 1 Axes>"
      ]
     },
     "metadata": {
      "needs_background": "light"
     },
     "output_type": "display_data"
    },
    {
     "data": {
      "image/png": "[encoded data removed]",
      "text/plain": [
       "<Figure size 288x216 with 1 Axes>"
      ]
     },
     "metadata": {
      "needs_background": "light"
     },
     "output_type": "display_data"
    },
    {
     "data": {
      "image/png": "[encoded data removed]",
      "text/plain": [
       "<Figure size 288x216 with 1 Axes>"
      ]
     },
     "metadata": {
      "needs_background": "light"
     },
     "output_type": "display_data"
    },
    {
     "data": {
      "image/png": "[encoded data removed]",
      "text/plain": [
       "<Figure size 288x216 with 1 Axes>"
      ]
     },
     "metadata": {
      "needs_background": "light"
     },
     "output_type": "display_data"
    },
    {
     "data": {
      "image/png": "[encoded data removed]",
      "text/plain": [
       "<Figure size 288x216 with 1 Axes>"
      ]
     },
     "metadata": {
      "needs_background": "light"
     },
     "output_type": "display_data"
    },
    {
     "data": {
      "image/png": "[encoded data removed]",
      "text/plain": [
       "<Figure size 288x216 with 1 Axes>"
      ]
     },
     "metadata": {
      "needs_background": "light"
     },
     "output_type": "display_data"
    }
   ],
   "source": [
    "# Outliers Check\n",
    "for col in train_data.columns:\n",
    "  plt.figure(figsize=(4,3))\n",
    "  train_data.boxplot([col])\n",
    "  plt.title(col)\n",
    "\n",
    "plt.show()"
   ]
  },
  {
   "cell_type": "markdown",
   "metadata": {
    "id": "W82l-2osjfK8"
   },
   "source": [
    "Outliers -> data yang menyimpang secara signifikan dari data normal. Outlier perlu untuk diidentifikasi dan ditangani karena  memungkinkan berdampak terhadap hasil analisis statistik.<br>\n",
    "\n",
    "Dari visualisasi boxplot diatas, dapat dilihat beberapa variabel yang memiliki data outlier, yaitu:\n",
    "* CreditScore\n",
    "* Age\n",
    "* NumOfProducts\n",
    "* HasCrCard\n",
    "* churn"
   ]
  },
  {
   "cell_type": "code",
   "execution_count": 28,
   "metadata": {
    "colab": {
     "base_uri": "https://localhost:8080/",
     "height": 0
    },
    "id": "Qf2bBdt7jURn",
    "outputId": "adc7944c-e628-4095-bbdc-2ea281e352b5"
   },
   "outputs": [
    {
     "data": {
      "text/plain": [
       "Unnamed: 0            0\n",
       "id                    0\n",
       "CustomerId            0\n",
       "Surname               0\n",
       "CreditScore          54\n",
       "Geography             0\n",
       "Gender                0\n",
       "Age                1232\n",
       "Tenure                0\n",
       "Balance               0\n",
       "NumOfProducts        92\n",
       "HasCrCard          8131\n",
       "IsActiveMember        0\n",
       "EstimatedSalary       0\n",
       "churn              6980\n",
       "dtype: int64"
      ]
     },
     "execution_count": 28,
     "metadata": {},
     "output_type": "execute_result"
    }
   ],
   "source": [
    "# Count jumlah outliers tiap variabel\n",
    "def count_outliers(column):\n",
    "    Q1 = column.quantile(0.25)\n",
    "    Q3 = column.quantile(0.75)\n",
    "    IQR = Q3 - Q1\n",
    "    lower_bound = Q1 - 1.5 * IQR\n",
    "    upper_bound = Q3 + 1.5 * IQR\n",
    "    outliers = column[(column < lower_bound) | (column > upper_bound)]\n",
    "    return len(outliers)\n",
    "\n",
    "train_data.apply(count_outliers)"
   ]
  },
  {
   "cell_type": "code",
   "execution_count": 29,
   "metadata": {
    "colab": {
     "base_uri": "https://localhost:8080/",
     "height": 0
    },
    "id": "bhxXfy7aj6NC",
    "outputId": "4672205b-c75c-4e58-95b9-7dff0c8791cc"
   },
   "outputs": [
    {
     "data": {
      "text/plain": [
       "0    26027\n",
       "1     6980\n",
       "Name: churn, dtype: int64"
      ]
     },
     "execution_count": 29,
     "metadata": {},
     "output_type": "execute_result"
    }
   ],
   "source": [
    "# Cek jumlah target variabel tiap klasifikasi karena terdapat outlier di kelas 1\n",
    "train_data['churn'].value_counts()"
   ]
  },
  {
   "cell_type": "code",
   "execution_count": 30,
   "metadata": {
    "colab": {
     "base_uri": "https://localhost:8080/",
     "height": 472
    },
    "id": "cJ_NIhv4mAtA",
    "outputId": "a866d6f4-909c-49c3-f5f5-565f38e6b815"
   },
   "outputs": [
    {
     "data": {
      "image/png": "[encoded data removed]",
      "text/plain": [
       "<Figure size 432x288 with 1 Axes>"
      ]
     },
     "metadata": {
      "needs_background": "light"
     },
     "output_type": "display_data"
    }
   ],
   "source": [
    "sns.countplot(x='HasCrCard', hue='churn', data=train_data)\n",
    "plt.xlabel('HasCrCard')\n",
    "plt.ylabel('Count')\n",
    "plt.title('Distribution of HasCrCard by churn')\n",
    "plt.show()"
   ]
  },
  {
   "cell_type": "markdown",
   "metadata": {
    "id": "3pi_roi2n1qS"
   },
   "source": [
    "Keputusan outlier tidak di handling, dengan beberapa faktor alasan berikut:\n",
    "- Variabel \"Churn\" memiliki imbalanced data yang sangat jauh sekitar 26.8%. Sehingga tidak memungkinkan untuk di oversampling atau undersampling.\n",
    "- Variabel \"HasCrCard\" juga memiliki imbalanced data yang tinggi, namun berdasarkan distribusinya terhadap churn terdistribusi normal. Dimana lebih banyak customer yang memiliki HasCrCard tidak churn.\n",
    "- Variabel \"Age\", \"CreditScore\" dan \"NumOfProducts\" memiliki jumlah outlier yang relatif kecil dibandingkan dengan jumlah data yang ada. Sehingga mungkin tidak berpengaruh besar terhadap hasil analisis."
   ]
  },
  {
   "cell_type": "code",
   "execution_count": 31,
   "metadata": {
    "colab": {
     "base_uri": "https://localhost:8080/",
     "height": 1000
    },
    "id": "12nJHPz3lG0G",
    "outputId": "7fa222d4-f606-4f9a-d406-e68f46e97235"
   },
   "outputs": [
    {
     "data": {
      "image/png": "[encoded data removed]",
      "text/plain": [
       "<Figure size 1080x1080 with 16 Axes>"
      ]
     },
     "metadata": {
      "needs_background": "light"
     },
     "output_type": "display_data"
    }
   ],
   "source": [
    "# Distribution Check\n",
    "plot = train_data.hist(figsize=(15,15))"
   ]
  },
  {
   "cell_type": "markdown",
   "metadata": {
    "id": "V7rLVQnzsdk2"
   },
   "source": [
    "**Scaling Data** -> untuk memastikan bahwa seluruh fitur dalam dataset memiliki skala yang sama.\n",
    "<br><br>\n",
    "Pendekatan scaling yang akan saya gunakan adalah '**RobustScaler**'. Karena 'RobustScaler' merupakan salah satu metode scaling yang robust terhadap outlier. Metode yang digunakan untuk mengubah fitur berdasarkan median dan IQR, sehingga lebih stabil."
   ]
  },
  {
   "cell_type": "code",
   "execution_count": 32,
   "metadata": {
    "id": "JsWa4PPZsJBi"
   },
   "outputs": [],
   "source": [
    "scaler = RobustScaler()\n",
    "x_train_scaled = scaler.fit_transform(x_train)\n",
    "x_test_scaled = scaler.fit_transform(x_test)\n",
    "\n",
    "x_train_scaled = pd.DataFrame(x_train_scaled, columns=x_train.columns)"
   ]
  },
  {
   "cell_type": "code",
   "execution_count": 33,
   "metadata": {
    "colab": {
     "base_uri": "https://localhost:8080/",
     "height": 1000
    },
    "id": "MtfE1QJIs5q4",
    "outputId": "acd435e4-53fc-41fd-ff09-1f2fa8de781d"
   },
   "outputs": [
    {
     "data": {
      "image/png": "[encoded data removed]",
      "text/plain": [
       "<Figure size 1080x1080 with 12 Axes>"
      ]
     },
     "metadata": {
      "needs_background": "light"
     },
     "output_type": "display_data"
    }
   ],
   "source": [
    "plot = x_train_scaled.hist(figsize=(15,15))"
   ]
  },
  {
   "cell_type": "markdown",
   "metadata": {
    "id": "ELSfQt-BuSBS"
   },
   "source": [
    "#### Random Forest"
   ]
  },
  {
   "cell_type": "code",
   "execution_count": 34,
   "metadata": {
    "id": "HcHTN2wG0YNk"
   },
   "outputs": [],
   "source": [
    "# Tunning Parameter using GridSearchCV\n",
    "parameters = {\n",
    "    'criterion':['gini', 'entropy', 'log_loss'],\n",
    "    'max_depth':[2,4,6,8],\n",
    "    'n_estimators':[50, 100, 150]\n",
    "}"
   ]
  },
  {
   "cell_type": "code",
   "execution_count": 35,
   "metadata": {
    "colab": {
     "base_uri": "https://localhost:8080/",
     "height": 0
    },
    "id": "rS86VxMmuPQc",
    "outputId": "f913678f-07c7-4f13-a0b5-c27c3917ef4c"
   },
   "outputs": [
    {
     "name": "stdout",
     "output_type": "stream",
     "text": [
      "Tuned Hyperparameters : {'criterion': 'gini', 'max_depth': 8, 'n_estimators': 50}\n",
      "Accuracy : 0.859181273930524\n"
     ]
    }
   ],
   "source": [
    "RF_model = RandomForestClassifier()\n",
    "RF_model = GridSearchCV(RF_model, param_grid=parameters, scoring='accuracy', cv=5)\n",
    "\n",
    "RF_model.fit(x_train_scaled, y_train)\n",
    "print(\"Tuned Hyperparameters :\", RF_model.best_params_)\n",
    "print(\"Accuracy :\",RF_model.best_score_)"
   ]
  },
  {
   "cell_type": "code",
   "execution_count": 37,
   "metadata": {
    "colab": {
     "base_uri": "https://localhost:8080/",
     "height": 75
    },
    "id": "dNnz8cBt2IMx",
    "outputId": "e234fece-5abc-4047-a047-6b65b9a18d80"
   },
   "outputs": [
    {
     "data": {
      "text/plain": [
       "RandomForestClassifier(max_depth=8, n_estimators=50)"
      ]
     },
     "execution_count": 37,
     "metadata": {},
     "output_type": "execute_result"
    }
   ],
   "source": [
    "best_RF_model = RandomForestClassifier(criterion='gini', max_depth=8, n_estimators=50)\n",
    "best_RF_model.fit(x_train_scaled, y_train)"
   ]
  },
  {
   "cell_type": "code",
   "execution_count": 38,
   "metadata": {
    "id": "_eZcrNvqug6z"
   },
   "outputs": [],
   "source": [
    "y_predict = best_RF_model.predict(x_test_scaled)"
   ]
  },
  {
   "cell_type": "code",
   "execution_count": 39,
   "metadata": {
    "colab": {
     "base_uri": "https://localhost:8080/",
     "height": 0
    },
    "id": "RndApuo7w5oF",
    "outputId": "a860a0e9-7196-4b02-9027-838abcd4f55c"
   },
   "outputs": [
    {
     "name": "stdout",
     "output_type": "stream",
     "text": [
      "\n",
      "Classification Report\n",
      "\n",
      "              precision    recall  f1-score   support\n",
      "\n",
      "           0       0.88      0.93      0.90      6513\n",
      "           1       0.66      0.54      0.59      1739\n",
      "\n",
      "    accuracy                           0.84      8252\n",
      "   macro avg       0.77      0.73      0.75      8252\n",
      "weighted avg       0.83      0.84      0.84      8252\n",
      "\n"
     ]
    }
   ],
   "source": [
    "print('\\nClassification Report\\n')\n",
    "print(classification_report(y_test, y_predict, target_names=['0','1']))"
   ]
  },
  {
   "cell_type": "markdown",
   "metadata": {
    "id": "E4nVe6xpxk2D"
   },
   "source": [
    "#### XGBoost"
   ]
  },
  {
   "cell_type": "code",
   "execution_count": 40,
   "metadata": {
    "id": "QReMSM3w2y4h"
   },
   "outputs": [],
   "source": [
    "parameters_xgb = {\n",
    "    'max_depth': [2, 4, 6, 8],\n",
    "    'n_estimators': [50, 100, 200],\n",
    "    'gamma': [0, 0.1, 0.2]\n",
    "}"
   ]
  },
  {
   "cell_type": "code",
   "execution_count": 41,
   "metadata": {
    "id": "YlRdCQmEpSgO"
   },
   "outputs": [],
   "source": [
    "XGB_model = XGBClassifier()"
   ]
  },
  {
   "cell_type": "code",
   "execution_count": 42,
   "metadata": {
    "colab": {
     "base_uri": "https://localhost:8080/",
     "height": 0
    },
    "id": "IxWQCmHk3vvH",
    "outputId": "314ad0e1-0d9b-46d1-8956-8f7e5cf564ed"
   },
   "outputs": [
    {
     "name": "stdout",
     "output_type": "stream",
     "text": [
      "Tuned Hyperparameters : {'gamma': 0, 'max_depth': 4, 'n_estimators': 50}\n",
      "Accuracy : 0.863119804904116\n"
     ]
    }
   ],
   "source": [
    "XGB_model = GridSearchCV(XGB_model, param_grid=parameters_xgb, scoring='accuracy', cv=5)\n",
    "XGB_model.fit(x_train_scaled, y_train)\n",
    "print(\"Tuned Hyperparameters :\", XGB_model.best_params_)\n",
    "print(\"Accuracy :\",XGB_model.best_score_)"
   ]
  },
  {
   "cell_type": "code",
   "execution_count": 43,
   "metadata": {
    "colab": {
     "base_uri": "https://localhost:8080/",
     "height": 248
    },
    "id": "BHiDpQtbxCAm",
    "outputId": "cb6a1077-cd8b-433b-be13-129dbef14b23"
   },
   "outputs": [
    {
     "data": {
      "text/plain": [
       "XGBClassifier(base_score=None, booster=None, callbacks=None,\n",
       "              colsample_bylevel=None, colsample_bynode=None,\n",
       "              colsample_bytree=None, device=None, early_stopping_rounds=None,\n",
       "              enable_categorical=False, eval_metric=None, feature_types=None,\n",
       "              gamma=0, grow_policy=None, importance_type=None,\n",
       "              interaction_constraints=None, learning_rate=None, max_bin=None,\n",
       "              max_cat_threshold=None, max_cat_to_onehot=None,\n",
       "              max_delta_step=None, max_depth=4, max_leaves=None,\n",
       "              min_child_weight=None, missing=nan, monotone_constraints=None,\n",
       "              multi_strategy=None, n_estimators=50, n_jobs=None,\n",
       "              num_parallel_tree=None, random_state=None, ...)"
      ]
     },
     "execution_count": 43,
     "metadata": {},
     "output_type": "execute_result"
    }
   ],
   "source": [
    "XGB_model = XGBClassifier(gamma=0, max_depth=4, n_estimators=50)\n",
    "XGB_model.fit(x_train_scaled, y_train)"
   ]
  },
  {
   "cell_type": "code",
   "execution_count": 44,
   "metadata": {
    "id": "O-8eDliTzkSn"
   },
   "outputs": [],
   "source": [
    "y_predict1 = XGB_model.predict(x_test_scaled)"
   ]
  },
  {
   "cell_type": "code",
   "execution_count": 45,
   "metadata": {
    "colab": {
     "base_uri": "https://localhost:8080/",
     "height": 0
    },
    "id": "L9haXX6gzygw",
    "outputId": "868fcb50-0c3c-4476-e5c5-4368babdbbe2"
   },
   "outputs": [
    {
     "name": "stdout",
     "output_type": "stream",
     "text": [
      "\n",
      "Classification Report\n",
      "\n",
      "              precision    recall  f1-score   support\n",
      "\n",
      "           0       0.89      0.91      0.90      6513\n",
      "           1       0.63      0.60      0.62      1739\n",
      "\n",
      "    accuracy                           0.84      8252\n",
      "   macro avg       0.76      0.75      0.76      8252\n",
      "weighted avg       0.84      0.84      0.84      8252\n",
      "\n"
     ]
    }
   ],
   "source": [
    "print('\\nClassification Report\\n')\n",
    "print(classification_report(y_test, y_predict1, target_names=['0','1']))"
   ]
  },
  {
   "cell_type": "code",
   "execution_count": 46,
   "metadata": {
    "colab": {
     "base_uri": "https://localhost:8080/",
     "height": 0
    },
    "id": "a-G7og7az1ji",
    "outputId": "6311de46-564d-4163-9f7a-754757892ba7"
   },
   "outputs": [
    {
     "name": "stdout",
     "output_type": "stream",
     "text": [
      "RF Model\n",
      "Precision: 0.6584158415841584\n",
      "Recall: 0.535365152386429\n",
      "F1-score: 0.5905486837932128\n",
      "\n",
      "XGB Model\n",
      "Precision: 0.6349786715417428\n",
      "Recall: 0.5991949396204715\n",
      "F1-score: 0.6165680473372781\n"
     ]
    }
   ],
   "source": [
    "precision = precision_score(y_test, y_predict)\n",
    "recall = recall_score(y_test, y_predict)\n",
    "f1 = f1_score(y_test, y_predict)\n",
    "\n",
    "print(\"RF Model\")\n",
    "print(\"Precision:\", precision)\n",
    "print(\"Recall:\", recall)\n",
    "print(\"F1-score:\", f1)\n",
    "\n",
    "precision1 = precision_score(y_test, y_predict1)\n",
    "recall1 = recall_score(y_test, y_predict1)\n",
    "f11 = f1_score(y_test, y_predict1)\n",
    "\n",
    "print(\"\\nXGB Model\")\n",
    "print(\"Precision:\", precision1)\n",
    "print(\"Recall:\", recall1)\n",
    "print(\"F1-score:\", f11)"
   ]
  },
  {
   "cell_type": "markdown",
   "metadata": {
    "id": "gYYgoNCdhIms"
   },
   "source": [
    "#### Kesimpulan:\n",
    "\n",
    "Berdasarkan perbandingan Precision, model Random Forest lebih tinggi dibandingkan XGBoost. Namun, jika dilihat pada nilai Recall dan F1-Scorenya Random Forest lebih rendah dibandingkan XGBoost. Hal ini menunjukkan bahwa kemungkinan XGBoost memiliki performa yang lebih baik dalam memprediksi kelas positif secara keseluruhan."
   ]
  },
  {
   "cell_type": "markdown",
   "metadata": {
    "id": "fVOxEZMlj7jV"
   },
   "source": [
    "#### Save best model to Pickle"
   ]
  },
  {
   "cell_type": "code",
   "execution_count": 47,
   "metadata": {
    "id": "Th8uDRxFjzZu"
   },
   "outputs": [],
   "source": [
    "import pickle\n",
    "\n",
    "filename = 'XGB_model.pkl'\n",
    "pickle.dump(XGB_model, open(filename, 'wb'))\n",
    "\n",
    "features_encoded = ['Gender', 'Geography']\n",
    "\n",
    "filename = 'features_encoded.pkl'\n",
    "with open(filename, 'wb') as f:\n",
    "  pickle.dump(x_train_scaled[features_encoded], f)"
   ]
  },
  {
   "cell_type": "code",
   "execution_count": null,
   "metadata": {},
   "outputs": [],
   "source": []
  }
 ],
 "metadata": {
  "colab": {
   "collapsed_sections": [
    "uARkGUHIQPqC",
    "zI1Q7sMrQTyw"
   ],
   "provenance": []
  },
  "kernelspec": {
   "display_name": "Python 3 (ipykernel)",
   "language": "python",
   "name": "python3"
  },
  "language_info": {
   "codemirror_mode": {
    "name": "ipython",
    "version": 3
   },
   "file_extension": ".py",
   "mimetype": "text/x-python",
   "name": "python",
   "nbconvert_exporter": "python",
   "pygments_lexer": "ipython3",
   "version": "3.9.12"
  }
 },
 "nbformat": 4,
 "nbformat_minor": 1
}
